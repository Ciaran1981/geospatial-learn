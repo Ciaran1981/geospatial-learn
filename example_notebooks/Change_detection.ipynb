{
 "cells": [
  {
   "cell_type": "markdown",
   "metadata": {},
   "source": [
    "### The following notebook is a tutorial on machine learning to detect change using geospatial_learn\n",
    "-------------------------------------------------------------------------------------------------------\n",
    "\n",
    "Documentation on the lib can be found here:\n",
    "\n",
    "http://geospatial-learn.readthedocs.io/en/latest/\n",
    "\n",
    "Please use QGIS to visualise results as this is quicker than plotting them in the notebook.\n",
    "\n",
    "Two Sentinel 2 subsets have been provided along with a pre-made model for detecting change. It is possible you could create your own model - the code is supplied to do so, but this would involve a bit of processing time!\n",
    "\n",
    "The change detection method used here **classifies the change direcly** rather than differencing two maps in order nto avoid the inevitable error-prop that occurs with the former. The training data was collected over 1.5 yrs worth of S2 data over some areas in Kenya.\n",
    "\n",
    "The data is available here:\n",
    "\n",
    "https://drive.google.com/file/d/1LyHZsWkELtVD8F4Y3-1tVvRvYPmGQ-Ev/view?usp=sharing\n",
    "\n",
    "The data consists of an image from 2015 and one from 2016, which will be used to detect change as well as some QGIS style files and a Random Forest model (Ch_MYE_cv5_rf.gz).\n",
    "\n",
    "The 2015 'before\" image\n",
    "\n",
    "<img src=\"figures/S2Bfr.png\" style=\"height:400px\">\n",
    "\n",
    "....and the 2016 \"after\" image\n",
    "\n",
    "<img src=\"figures/S2Aft.png\" style=\"height:400px\">\n",
    "\n",
    "The class of principle interest is DF (De-Forest), which is really just forest clearance, but other change classes are included. \n",
    "\n",
    "The classes are:\n",
    "\n",
    "- DF (De-Forest - really just clearance)\n",
    "- SF (Stable Forest)\n",
    "- SNFV (Stable Non-Forest Vegetation)\n",
    "- SNF (Stable Non-Forest eg - inorganic/impervious)\n",
    "- Water\n",
    "- NFV (Non-Forest-Veg) loss \n",
    "- NFV (as above) regrowth\n",
    "\n",
    "There ia a QML for both raster & vector"
   ]
  },
  {
   "cell_type": "code",
   "execution_count": null,
   "metadata": {},
   "outputs": [],
   "source": [
    "%matplotlib inline"
   ]
  },
  {
   "cell_type": "markdown",
   "metadata": {},
   "source": [
    "**Before we begin!**\n",
    "\n",
    "In jupyter, to see the docstring, which explains any function (provided someone has written it!) enter the function as you normaly would, but put a question mark at the end and press shift and enter:\n",
    "```python\n",
    "raster.stack_ras?\n",
    "```\n",
    "A scrollable text will appear with an explanation"
   ]
  },
  {
   "cell_type": "code",
   "execution_count": null,
   "metadata": {},
   "outputs": [],
   "source": [
    "import matplotlib.pyplot as plt\n",
    "from geospatial_learn import raster, learning, shape"
   ]
  },
  {
   "cell_type": "code",
   "execution_count": null,
   "metadata": {},
   "outputs": [],
   "source": [
    "cd S2_change"
   ]
  },
  {
   "cell_type": "markdown",
   "metadata": {},
   "source": [
    "change directory to where you have saved the files"
   ]
  },
  {
   "cell_type": "markdown",
   "metadata": {},
   "source": [
    "### Paths to the 2 images and model - please alter as appropriate in your own dir"
   ]
  },
  {
   "cell_type": "code",
   "execution_count": null,
   "metadata": {},
   "outputs": [],
   "source": [
    "im1 = ('S2_mau_clip_dec2015.tif')\n",
    "\n",
    "im2 = ('S2_mau_clip_dec2016.tif')\n",
    "\n",
    "rfModel = 'Ch_MYE_cv5_rf.gz'"
   ]
  },
  {
   "cell_type": "markdown",
   "metadata": {},
   "source": [
    "### First thing to do is stack our 'before' and 'after' images"
   ]
  },
  {
   "cell_type": "code",
   "execution_count": null,
   "metadata": {
    "scrolled": true
   },
   "outputs": [],
   "source": [
    "stkRas = 'S2_ch_stk.tif'\n",
    "       \n",
    "raster.stack_ras([im1,im2], stkRas)"
   ]
  },
  {
   "cell_type": "markdown",
   "metadata": {},
   "source": [
    "### Next classify the temporal S2 stack"
   ]
  },
  {
   "cell_type": "code",
   "execution_count": null,
   "metadata": {},
   "outputs": [],
   "source": [
    "outMap = 'S2_ch_map'"
   ]
  },
  {
   "cell_type": "markdown",
   "metadata": {},
   "source": [
    "### A note on model creation with k-fold cross validated grid search\n",
    "\n",
    "\n",
    "**If you wish to create your own model with training samples train the model with the above data.** \n",
    "\n",
    "**Please note this will take time with a large training set**\n",
    "\n",
    "We first define the parameters we wish to grid search over. The parameters below are just an example, It is of course possible for these to be more numerous at the cost of processing time. The time is a function of the number of possibilities per parameter. There are defaults in geospatial-learn, but it is recommended you define your own.\n",
    "\n",
    "```python\n",
    "\n",
    "    params = {'n_estimators': [500], 'max_features': ['sqrt', 'log2'], \n",
    "              'min_samples_split':[5,10,20,50], 'min_samples_leaf': [5,10,20,50]}\n",
    "```          \n",
    "When we execute the create_model function we get a summary of the no of model fits\n",
    "\n",
    "'Fitting 5 folds for each of 18 candidates, totalling 90 fits'\n",
    "\n",
    "I have fixed the n_estimators (trees) at 500 below but this could be varied also.\n",
    "\n",
    "For a full list of params see:\n",
    "\n",
    "http://scikit-learn.org/stable/modules/generated/sklearn.ensemble.RandomForestClassifier.html\n",
    "\n",
    "We also need a model path to save to:\n",
    "\n",
    "```python\n",
    "outModel = 'path/to/mymodel.gz'\n",
    "```\n",
    "\n",
    "Then finally run the model calibration:\n",
    "\n",
    "```python\n",
    "learning.create_model(trainPix, outPixmodel, clf='rf', cv=3, params=params)\n",
    "```"
   ]
  },
  {
   "cell_type": "markdown",
   "metadata": {},
   "source": [
    "### Lastly, polygonise the thematic raster for visualisation in QGIS\n",
    "\n",
    "There is a style file available for this in the zip called 'Change_style.qml'.\n",
    "\n",
    "For those not familiar with python, the line below uses some string concatenation out of lazyness for renaming files. "
   ]
  },
  {
   "cell_type": "code",
   "execution_count": null,
   "metadata": {},
   "outputs": [],
   "source": [
    "raster.polygonize(outMap+'.tif', outMap+'.shp')"
   ]
  },
  {
   "cell_type": "markdown",
   "metadata": {},
   "source": [
    "### Check the results in QGIS\n",
    "\n",
    "Using the qml file the resulting polygon will look like this:\n",
    "\n",
    "<img src=\"figures/S2Chg.png\" style=\"height:400px\">\n",
    "\n",
    "The key being....\n",
    "\n",
    "<img src=\"figures/S2Key.png\" style=\"height:100px\">\n",
    "\n",
    "**As well as a thematic map, we can produce a multiband map of class probabilities with the following function**\n",
    "\n",
    "```python \n",
    "learning.prob_pixel_bloc(rfModel, stkRas, 8, probMap, 8, blocksize=256)\n",
    "```\n",
    "The input variables are the same as the classify function except we also input the number of classes (7 in this case)\n",
    "\n",
    "This will output a multi-band raster where each band is a probability of a certain class. This will take a while to process.\n",
    "\n",
    "If you wish to plot feature importances run the cell below"
   ]
  },
  {
   "cell_type": "code",
   "execution_count": null,
   "metadata": {},
   "outputs": [],
   "source": [
    "learning.plot_feature_importances(rfModel, ['b','g', 'r', 'nir','b1','g1', 'r1', 'nir1'])"
   ]
  }
 ],
 "metadata": {
  "kernelspec": {
   "display_name": "Python 3",
   "language": "python",
   "name": "python3"
  },
  "language_info": {
   "codemirror_mode": {
    "name": "ipython",
    "version": 3
   },
   "file_extension": ".py",
   "mimetype": "text/x-python",
   "name": "python",
   "nbconvert_exporter": "python",
   "pygments_lexer": "ipython3",
   "version": "3.7.3"
  }
 },
 "nbformat": 4,
 "nbformat_minor": 2
}
