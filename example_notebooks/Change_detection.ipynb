{
 "cells": [
  {
   "cell_type": "markdown",
   "metadata": {},
   "source": [
    "### The following notebook is a tutorial on machine learning to detect change using geospatial_learn\n",
    "-------------------------------------------------------------------------------------------------------\n",
    "\n",
    "Documentation on the lib can be found here:\n",
    "\n",
    "http://geospatial-learn.readthedocs.io/en/latest/\n",
    "\n",
    "Please use QGIS to visualise results as this is quicker than plotting them in the notebook.\n",
    "\n",
    "Two Sentinel 2 subsets have been provided along with a pre-made model for detecting change. It is possible you could create your own model - the code is supplied to do so, but this would involve a bit of processing time!\n",
    "\n",
    "The change detection method used here classifies the change direcly rather than differencing two maps. The training data was collected over 1.5 yrs worth of S2 data over some areas in Kenya"
   ]
  },
  {
   "cell_type": "code",
   "execution_count": 1,
   "metadata": {},
   "outputs": [],
   "source": [
    "%matplotlib inline"
   ]
  },
  {
   "cell_type": "markdown",
   "metadata": {},
   "source": [
    "**Before we begin!**\n",
    "\n",
    "In jupyter, to see the docstring, which explains any function (provided someone has written it!) enter the function as you normaly would, but put a question mark at the end and press shift and enter:\n",
    "```python\n",
    "geodata.stack_ras?\n",
    "```\n",
    "A scrollable text will appear with an explanation"
   ]
  },
  {
   "cell_type": "code",
   "execution_count": 2,
   "metadata": {},
   "outputs": [
    {
     "name": "stdout",
     "output_type": "stream",
     "text": [
      "xgb not available\n"
     ]
    },
    {
     "name": "stderr",
     "output_type": "stream",
     "text": [
      "/bigdrive/anaconda3/lib/python3.5/site-packages/deap/tools/_hypervolume/pyhv.py:33: ImportWarning: Falling back to the python version of hypervolume module. Expect this to be very slow.\n",
      "  \"module. Expect this to be very slow.\", ImportWarning)\n"
     ]
    }
   ],
   "source": [
    "import matplotlib.pyplot as plt\n",
    "from geospatial_learn import data, geodata, learning, shape"
   ]
  },
  {
   "cell_type": "code",
   "execution_count": 3,
   "metadata": {},
   "outputs": [
    {
     "name": "stdout",
     "output_type": "stream",
     "text": [
      "/media/ciaran/HD-PZFU3/PyScripts/CLCR_tutorials/S2_change/S2_change\n"
     ]
    }
   ],
   "source": [
    "cd S2_change"
   ]
  },
  {
   "cell_type": "markdown",
   "metadata": {},
   "source": [
    "change directory to where you have saved the files"
   ]
  },
  {
   "cell_type": "markdown",
   "metadata": {},
   "source": [
    "### Paths to the 2 images and model - please alter as appropriate in your own dir"
   ]
  },
  {
   "cell_type": "code",
   "execution_count": 4,
   "metadata": {},
   "outputs": [],
   "source": [
    "im1 = ('S2_mau_clip_dec2015.tif')\n",
    "\n",
    "im2 = ('S2_mau_clip_dec2016.tif')\n",
    "\n",
    "rfModel = 'Ch_MYE_cv5_rf.gz'"
   ]
  },
  {
   "cell_type": "markdown",
   "metadata": {},
   "source": [
    "### First thing to do is stack our 'before' and 'after' images"
   ]
  },
  {
   "cell_type": "code",
   "execution_count": 5,
   "metadata": {
    "scrolled": true
   },
   "outputs": [
    {
     "name": "stdout",
     "output_type": "stream",
     "text": [
      "\n",
      "Processing file     1 of     2,  0.000% completed in 0 minutes.\n",
      "Filename: S2_mau_clip_dec2015.tif\n",
      "File Size: 1327x1093x4\n",
      "Pixel Size: 9.993147 x -9.998413\n",
      "UL:(757895.629157,9965422.738360)   LR:(771156.535477,9954494.473390)\n",
      "\n",
      "Processing file     2 of     2, 50.000% completed in 0 minutes.\n",
      "Filename: S2_mau_clip_dec2016.tif\n",
      "File Size: 1327x1093x4\n",
      "Pixel Size: 9.993147 x -9.998413\n",
      "UL:(757895.629157,9965422.738360)   LR:(771156.535477,9954494.473390)\n"
     ]
    }
   ],
   "source": [
    "stkRas = 'S2_ch_stk.tif'\n",
    "       \n",
    "geodata.stack_ras([im1,im2], stkRas)"
   ]
  },
  {
   "cell_type": "markdown",
   "metadata": {},
   "source": [
    "### Next classify the temporal S2 stack"
   ]
  },
  {
   "cell_type": "code",
   "execution_count": 6,
   "metadata": {},
   "outputs": [],
   "source": [
    "outMap = 'S2_ch_map'"
   ]
  },
  {
   "cell_type": "markdown",
   "metadata": {},
   "source": [
    "### A note on model creation with k-fold cross validated grid search\n",
    "\n",
    "\n",
    "**If you wish to create your own model with training samples train the model with the above data.** \n",
    "\n",
    "**Please note this will take time with a large training set**\n",
    "\n",
    "We first define the parameters we wish to grid search over. The parameters below are just an example, It is of course possible for these to be more numerous at the cost of processing time. The time is a function of the number of possibilities per parameter. There are defaults in geospatial-learn, but it is recommended you define your own.\n",
    "\n",
    "```python\n",
    "\n",
    "    params = {'n_estimators': [500], 'max_features': ['sqrt', 'log2'], \n",
    "              'min_samples_split':[5,10,20,50], 'min_samples_leaf': [5,10,20,50]}\n",
    "```          \n",
    "When we execute the create_model function we get a summary of the no of model fits\n",
    "\n",
    "'Fitting 5 folds for each of 18 candidates, totalling 90 fits'\n",
    "\n",
    "I have fixed the n_estimators (trees) at 500 below but this could be varied also.\n",
    "\n",
    "For a full list of params see:\n",
    "\n",
    "http://scikit-learn.org/stable/modules/generated/sklearn.ensemble.RandomForestClassifier.html\n",
    "\n",
    "We also need a model path to save to:\n",
    "\n",
    "```python\n",
    "outModel = 'path/to/mymodel.gz'\n",
    "```\n",
    "\n",
    "Then finally run the model calibration:\n",
    "\n",
    "```python\n",
    "learning.create_model(trainPix, outPixmodel, clf='rf', cv=3, params=params)\n",
    "```"
   ]
  },
  {
   "cell_type": "code",
   "execution_count": 7,
   "metadata": {},
   "outputs": [
    {
     "name": "stderr",
     "output_type": "stream",
     "text": [
      "/bigdrive/anaconda3/lib/python3.5/site-packages/sklearn/base.py:311: UserWarning: Trying to unpickle estimator DecisionTreeClassifier from version 0.18.1 when using version 0.19.1. This might lead to breaking code or invalid results. Use at your own risk.\n",
      "  UserWarning)\n",
      "/bigdrive/anaconda3/lib/python3.5/site-packages/sklearn/base.py:311: UserWarning: Trying to unpickle estimator RandomForestClassifier from version 0.18.1 when using version 0.19.1. This might lead to breaking code or invalid results. Use at your own risk.\n",
      "  UserWarning)\n",
      "100%|██████████| 5/5 [00:40<00:00,  8.02s/it]\n"
     ]
    }
   ],
   "source": [
    "learning.classify_pixel_bloc(rfModel, stkRas, 8, outMap, blocksize=256)"
   ]
  },
  {
   "cell_type": "markdown",
   "metadata": {},
   "source": [
    "### Lastly, polygonise the thematic raster for visualisation in QGIS\n",
    "\n",
    "There is a style file available for this in the zip called 'Change_style.qml'.\n",
    "\n",
    "For those not familiar with python, the line below uses some string concatenation out of lazyness for renaming files. "
   ]
  },
  {
   "cell_type": "code",
   "execution_count": 8,
   "metadata": {},
   "outputs": [],
   "source": [
    "geodata.polygonize(outMap+'.tif', outMap)"
   ]
  },
  {
   "cell_type": "markdown",
   "metadata": {},
   "source": [
    "**As well as a thematic map, we can produce a multiband map of class probabilities with the following function**\n",
    "\n",
    "```python \n",
    "learning.prob_pixel_bloc(rfModel, stkRas, 8, probMap, 8, blocksize=256)\n",
    "```\n",
    "The input variables are the same as the classify function except we also input the number of classes (7 in this case)"
   ]
  },
  {
   "cell_type": "code",
   "execution_count": 8,
   "metadata": {},
   "outputs": [
    {
     "name": "stderr",
     "output_type": "stream",
     "text": [
      "/bigdrive/anaconda3/lib/python3.5/site-packages/sklearn/base.py:311: UserWarning: Trying to unpickle estimator DecisionTreeClassifier from version 0.18.1 when using version 0.19.1. This might lead to breaking code or invalid results. Use at your own risk.\n",
      "  UserWarning)\n",
      "/bigdrive/anaconda3/lib/python3.5/site-packages/sklearn/base.py:311: UserWarning: Trying to unpickle estimator RandomForestClassifier from version 0.18.1 when using version 0.19.1. This might lead to breaking code or invalid results. Use at your own risk.\n",
      "  UserWarning)\n",
      "100%|██████████| 5/5 [00:40<00:00,  8.15s/it]\n"
     ]
    }
   ],
   "source": [
    "learning.prob_pixel_bloc(rfModel, stkRas, 8, outMap+'prob',7, blocksize=256)"
   ]
  },
  {
   "cell_type": "markdown",
   "metadata": {},
   "source": [
    "### Check the results in QGIS!"
   ]
  },
  {
   "cell_type": "code",
   "execution_count": 10,
   "metadata": {},
   "outputs": [],
   "source": [
    "geodata.temporal_comp?"
   ]
  },
  {
   "cell_type": "code",
   "execution_count": 10,
   "metadata": {},
   "outputs": [
    {
     "name": "stderr",
     "output_type": "stream",
     "text": [
      "/bigdrive/anaconda3/lib/python3.5/site-packages/sklearn/base.py:311: UserWarning: Trying to unpickle estimator DecisionTreeClassifier from version 0.18.1 when using version 0.19.1. This might lead to breaking code or invalid results. Use at your own risk.\n",
      "  UserWarning)\n",
      "/bigdrive/anaconda3/lib/python3.5/site-packages/sklearn/base.py:311: UserWarning: Trying to unpickle estimator RandomForestClassifier from version 0.18.1 when using version 0.19.1. This might lead to breaking code or invalid results. Use at your own risk.\n",
      "  UserWarning)\n"
     ]
    },
    {
     "data": {
      "image/png": "[encoded data removed]",
      "text/plain": [
       "<matplotlib.figure.Figure at 0x7f7a9b85d128>"
      ]
     },
     "metadata": {},
     "output_type": "display_data"
    }
   ],
   "source": [
    "learning.plot_feature_importances(rfModel, ['b','g', 'r', 'nir','b1','g1', 'r1', 'nir1'])"
   ]
  },
  {
   "cell_type": "code",
   "execution_count": 9,
   "metadata": {},
   "outputs": [],
   "source": [
    "learning.plot_feature_importances?"
   ]
  }
 ],
 "metadata": {
  "kernelspec": {
   "display_name": "Python 3",
   "language": "python",
   "name": "python3"
  },
  "language_info": {
   "codemirror_mode": {
    "name": "ipython",
    "version": 3
   },
   "file_extension": ".py",
   "mimetype": "text/x-python",
   "name": "python",
   "nbconvert_exporter": "python",
   "pygments_lexer": "ipython3",
   "version": "3.7.3"
  }
 },
 "nbformat": 4,
 "nbformat_minor": 2
}
