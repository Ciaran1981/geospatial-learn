{
 "cells": [
  {
   "cell_type": "markdown",
   "metadata": {},
   "source": [
    "### Batch processing of annual data with geospatial learn\n",
    "\n",
    "Geospatial learn has a couple of scripts that can be applied to data to produce a time series of Sentinel 2 imagery\n",
    "\n",
    "This is useful if you wish to retrospectively produce change maps over short time periods such as 5-10 days.\n",
    "\n",
    "The script \"stk_scn_granule.py\" stacks every S2 granule into two image stacks in a folder and replaces cloud/shadow with the last cloud free pixel. \n",
    "\n",
    "The script change_batch.py then classifies the imagery produced.\n",
    "\n",
    "***The easiest way to get these to work in a terminal/powershell is to paste them into anaconda/bin, which is on your system path***"
   ]
  },
  {
   "cell_type": "markdown",
   "metadata": {},
   "source": [
    "**Commands**\n",
    "\n",
    "The cmd line for stk_scn_granule.py is as follows:\n",
    "\n",
    "The aoi and granule arguments are just for naming purposes, in this case as the granule falls over the mau forest, kenya.\n",
    "\n",
    "```bash\n",
    "stk_scn_granule.py -folder myS2_L2A_folder -aoi mau -granule 36MYE -model myscnmodel.gz \n",
    "\n",
    "                   -polygon my_forest_mask.shp \n",
    "```\n",
    "The polygon argument is optional, this saves on processing time, by cutting down what is being processed \n",
    "\n",
    "The cmd line for change_batch is as follows:\n",
    "\n",
    "```bash\n",
    "change_batch.py -folder myS2folder  -model mychmodel.gz -granule 36MYE  -polygon myforestmask.shp\n",
    "```\n",
    "As before the polygon is optional, as it is likely you will already have masked out in the previous operation\n",
    "\n"
   ]
  },
  {
   "cell_type": "code",
   "execution_count": null,
   "metadata": {},
   "outputs": [],
   "source": []
  }
 ],
 "metadata": {
  "kernelspec": {
   "display_name": "Python 3",
   "language": "python",
   "name": "python3"
  },
  "language_info": {
   "codemirror_mode": {
    "name": "ipython",
    "version": 3
   },
   "file_extension": ".py",
   "mimetype": "text/x-python",
   "name": "python",
   "nbconvert_exporter": "python",
   "pygments_lexer": "ipython3",
   "version": "3.7.3"
  }
 },
 "nbformat": 4,
 "nbformat_minor": 2
}
