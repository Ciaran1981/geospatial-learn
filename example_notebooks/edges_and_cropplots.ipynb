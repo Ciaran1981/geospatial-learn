{
 "cells": [
  {
   "cell_type": "markdown",
   "metadata": {},
   "source": [
    "# A simple method for segmenting rectilinear crop plots\n",
    "\n",
    "The following outlines the method in https://www.frontiersin.org/articles/10.3389/fpls.2020.591886/full employing simple image processing techniques to extract crop plots. This is easily implemented using scikit-image or open cv, but available as a functionality within this library. \n",
    "\n",
    "The method employs edge detection, hough line detection then segment reduction to arrive at the plots of interest. The merit is the simplicity, though it is somewhat inflexible being limited to rectilinear plots. \n",
    "\n",
    "**Needless to say complete segmentation is not guaranteed - will be dependent upon your image.** "
   ]
  },
  {
   "cell_type": "code",
   "execution_count": null,
   "metadata": {},
   "outputs": [],
   "source": [
    "%matplotlib inline"
   ]
  },
  {
   "cell_type": "code",
   "execution_count": null,
   "metadata": {},
   "outputs": [],
   "source": [
    "import cv2\n",
    "from geospatial_learn import raster\n",
    "from geospatial_learn.utilities import do_phasecong, houghseg\n",
    "from math import ceil \n",
    "import matplotlib.pyplot as plt\n",
    "from skimage.color import rgb2gray, label2rgb\n",
    "from skimage.feature import canny\n",
    "from skimage.exposure import rescale_intensity"
   ]
  },
  {
   "cell_type": "markdown",
   "metadata": {},
   "source": [
    "Read in a test image subset. Replace with your own if required parameters will need to be adjusted, needless to say complete segmentation is not guaranteed - will be dependent upon your image. "
   ]
  },
  {
   "cell_type": "code",
   "execution_count": null,
   "metadata": {},
   "outputs": [],
   "source": [
    "inRas = 'figures/weetestorig.tif'\n",
    "\n",
    "img = raster.raster2array(inRas, bands=[1,2,3])\n",
    "# for testing below\n",
    "gray =  rgb2gray(img)"
   ]
  },
  {
   "cell_type": "code",
   "execution_count": null,
   "metadata": {},
   "outputs": [],
   "source": [
    "plt.imshow(img)\n",
    "plt.show()"
   ]
  },
  {
   "cell_type": "markdown",
   "metadata": {},
   "source": [
    "### The classical Canny edge detection. \n",
    "\n",
    "Experimental GUI below, we follow Canny's original rule of thumb with the low threshold being divided by 2. \n",
    "From this we can derive the parameters for the crop segmentation."
   ]
  },
  {
   "cell_type": "code",
   "execution_count": null,
   "metadata": {
    "scrolled": false
   },
   "outputs": [],
   "source": [
    "\n",
    "def icanny(high_threshold, *args, **kwargs): #...do it\n",
    "    \n",
    "    inIm = gray#.astype(np.float)\n",
    " \n",
    "    low_threshold = high_threshold / 2\n",
    "    edge = canny(inIm, low_threshold=low_threshold,  high_threshold=high_threshold, *args, **kwargs)\n",
    "    \n",
    "    # Comment the first 2 lines if you want more space\n",
    "    plt.figure(figsize=(15,15))\n",
    "    plt.subplot(121)\n",
    "    plt.imshow(img)\n",
    "    plt.subplot(122)\n",
    "    plt.imshow(edge)\n",
    "    plt.show()\n",
    "    \n",
    "#    return edge\n",
    "    \n",
    "    \n",
    "from ipywidgets import widgets\n",
    "\n",
    "cTester = widgets.interact(icanny,\n",
    "                           #k=widgets.IntSlider(min=3, max=100, step=2, continuous_update=False),\n",
    "                              sigma=widgets.IntSlider(min=0, max=100, step=1, continuous_update=False),\n",
    "                              #low_threshold=widgets.IntSlider(min=0, max=255, step=1, continuous_update=False),\n",
    "                              high_threshold=widgets.FloatSlider(min=0, max=1, step=0.01, continuous_update=False))"
   ]
  },
  {
   "cell_type": "markdown",
   "metadata": {},
   "source": [
    "### Phase congruency edge detection\n",
    "\n",
    "See https://link.springer.com/article/10.1007/s004260000024\n",
    "\n",
    "An alternative method for edges, which may or may not prove more useful  albeit at a reduced speed with the python version ustilised here. \n"
   ]
  },
  {
   "cell_type": "code",
   "execution_count": null,
   "metadata": {
    "scrolled": false
   },
   "outputs": [],
   "source": [
    "def iphase(*args, **kwargs):\n",
    "    \n",
    "    plt.figure(figsize=(15,15))\n",
    "    plt.subplot(121)\n",
    "    plt.imshow(img)\n",
    "    plt.subplot(122)\n",
    "    edge = do_phasecong(gray, *args, **kwargs)\n",
    "    plt.imshow(edge)\n",
    "    plt.show()\n",
    "    \n",
    "\n",
    "    \n",
    "from ipywidgets import widgets\n",
    "\n",
    "cTester = widgets.interact(iphase,\n",
    "                           sigma=widgets.IntSlider(min=0, max=50, step=1, continuous_update=False),\n",
    "                              low_t=widgets.IntSlider(min=0, max=256, step=1, continuous_update=False),\n",
    "                              hi_t=widgets.IntSlider(min=0, max=256, step=1, continuous_update=False))"
   ]
  },
  {
   "cell_type": "markdown",
   "metadata": {},
   "source": [
    "### Segment the plots\n",
    "\n",
    "The function houghseg segments the plots. In this case, phase congruency is 'cleaner' edge detector, so it is used.\n",
    "\n",
    "We are interested in the larger rectangular plots here so we use the ```min_area``` param to constrain this."
   ]
  },
  {
   "cell_type": "code",
   "execution_count": null,
   "metadata": {},
   "outputs": [],
   "source": [
    "outShp = 'mytest.shp'\n",
    "\n",
    "segments = houghseg(inRas, outShp, edge='phase', sigma=4, min_area=4)\n",
    "\n",
    "plt.figure(figsize=(15,15))\n",
    "plt.subplot(121)\n",
    "plt.imshow(img)\n",
    "plt.subplot(122)\n",
    "plt.imshow(segments, cmap='gray')"
   ]
  },
  {
   "cell_type": "markdown",
   "metadata": {},
   "source": [
    "**Larger examples are detailed in the paper, which are constrained by accurately cropping out the plot area of the fields first, to ensure the lines remain faithful to the divisions unlike the tiny example here**"
   ]
  }
 ],
 "metadata": {
  "kernelspec": {
   "display_name": "Python [conda env:geolearn] *",
   "language": "python",
   "name": "conda-env-geolearn-py"
  },
  "language_info": {
   "codemirror_mode": {
    "name": "ipython",
    "version": 3
   },
   "file_extension": ".py",
   "mimetype": "text/x-python",
   "name": "python",
   "nbconvert_exporter": "python",
   "pygments_lexer": "ipython3",
   "version": "3.7.8"
  }
 },
 "nbformat": 4,
 "nbformat_minor": 2
}
