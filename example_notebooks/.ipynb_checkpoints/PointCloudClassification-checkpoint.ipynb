{
 "cells": [
  {
   "cell_type": "markdown",
   "metadata": {},
   "source": [
    "### A workflow for classifying a point cloud using point features\n",
    "\n",
    "The following example will run through the functions to classify a point cloud based on the point neighborhood attributes. This is a very simple example but this of course could be extended to extract very useful information using different classes and subsequent querying of the constituent segments. \n",
    "\n",
    "The point cloud in question can be downloaded here:\n",
    "\n",
    "https://drive.google.com/file/d/1DP7wkTqemfux2UkAD_8gZUnzm5GUfShZ/view?usp=sharing\n",
    "\n",
    "It is derived from UAV imagery via structure from motion. Unzip it and have a look in cloud compare, making the scalar field 'training'.  \n",
    "\n",
    "The task will classify the scene into roofs, building facades, trees/vegetation and ground classes, which are represented by the training samples seen in the screenshot. \n",
    "\n",
    "<img src=\"figures/llanlabel.png\" style=\"height:300px\">\n",
    "\n"
   ]
  },
  {
   "cell_type": "markdown",
   "metadata": {},
   "source": [
    "Import the learning module which contains all we need"
   ]
  },
  {
   "cell_type": "code",
   "execution_count": null,
   "metadata": {},
   "outputs": [],
   "source": [
    "from geospatial_learn import learning as ln"
   ]
  },
  {
   "cell_type": "code",
   "execution_count": 4,
   "metadata": {},
   "outputs": [],
   "source": [
    "incloud = \"/path/to/Llandinam.ply\""
   ]
  },
  {
   "cell_type": "markdown",
   "metadata": {},
   "source": [
    "Firstly we will calculate the features required to characterise the pointcloud.\n",
    "These are calculated on 3 scales which by default are k=10, 20 & 30 nearest-neighbours.\n",
    "If wish to alter this go ahead!"
   ]
  },
  {
   "cell_type": "code",
   "execution_count": null,
   "metadata": {},
   "outputs": [],
   "source": [
    "ln.ply_features(incloud)"
   ]
  },
  {
   "cell_type": "markdown",
   "metadata": {},
   "source": [
    "Next we can get training as a numpy array for creating our model"
   ]
  },
  {
   "cell_type": "code",
   "execution_count": null,
   "metadata": {},
   "outputs": [],
   "source": [
    "training = ln.get_training_ply(incld)"
   ]
  },
  {
   "cell_type": "markdown",
   "metadata": {},
   "source": [
    "Next we create a model, this will be a keras-based dense net in this instance but does not have to be. \n",
    "\n",
    "The nnt structure is 32 > 16 > 8 > 32. \n",
    "\n",
    "**This is not necessarily a good example of a dense nnt structure and is used merely for demo purposes.**"
   ]
  },
  {
   "cell_type": "code",
   "execution_count": null,
   "metadata": {},
   "outputs": [],
   "source": [
    "model = 'path/to/model.h5'\n",
    "\n",
    "ln.create_model(training, model, clf='keras', cv=5)"
   ]
  },
  {
   "cell_type": "markdown",
   "metadata": {},
   "source": [
    "Finally we classify the point cloud "
   ]
  },
  {
   "cell_type": "code",
   "execution_count": null,
   "metadata": {},
   "outputs": [],
   "source": [
    "classify_ply(incloud, model, train_field=\"training\", class_field='label',\n",
    "                 rgb=True"
   ]
  },
  {
   "cell_type": "markdown",
   "metadata": {},
   "source": [
    "Its that simple! Take a look in cloud compare and make \"label\" the scalar field and you should see something like this\n",
    "\n",
    "<img src=\"figures/llanclass.png\" style=\"height:300px\">"
   ]
  },
  {
   "cell_type": "markdown",
   "metadata": {},
   "source": [
    "Not bad for a quick attempt using a relatively simple network.\n",
    "\n",
    "Try some different classifiers using the ln.create_model function and see if you can improve it...."
   ]
  },
  {
   "cell_type": "code",
   "execution_count": null,
   "metadata": {},
   "outputs": [],
   "source": []
  }
 ],
 "metadata": {
  "kernelspec": {
   "display_name": "Python 3",
   "language": "python",
   "name": "python3"
  },
  "language_info": {
   "codemirror_mode": {
    "name": "ipython",
    "version": 3
   },
   "file_extension": ".py",
   "mimetype": "text/x-python",
   "name": "python",
   "nbconvert_exporter": "python",
   "pygments_lexer": "ipython3",
   "version": "3.7.3"
  }
 },
 "nbformat": 4,
 "nbformat_minor": 4
}
