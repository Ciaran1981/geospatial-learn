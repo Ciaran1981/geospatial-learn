{
 "cells": [
  {
   "cell_type": "markdown",
   "metadata": {},
   "source": [
    "### The following notebook is a tutorial on machine learning to detect change using geospatial_learn\n",
    "-------------------------------------------------------------------------------------------------------\n",
    "\n",
    "Documentation on the lib can be found here:\n",
    "\n",
    "http://geospatial-learn.readthedocs.io/en/latest/\n",
    "\n",
    "Please use QGIS to visualise results as this is quicker than plotting them in the notebook.\n",
    "\n",
    "Two Sentinel 2 subsets have been provided along with a pre-made model for detecting change."
   ]
  },
  {
   "cell_type": "code",
   "execution_count": 1,
   "metadata": {},
   "outputs": [],
   "source": [
    "%matplotlib inline"
   ]
  },
  {
   "cell_type": "code",
   "execution_count": 2,
   "metadata": {},
   "outputs": [
    {
     "name": "stdout",
     "output_type": "stream",
     "text": [
      "xgb not available\n"
     ]
    },
    {
     "name": "stderr",
     "output_type": "stream",
     "text": [
      "/bigdrive/anaconda3/lib/python3.5/site-packages/deap/tools/_hypervolume/pyhv.py:33: ImportWarning: Falling back to the python version of hypervolume module. Expect this to be very slow.\n",
      "  \"module. Expect this to be very slow.\", ImportWarning)\n"
     ]
    }
   ],
   "source": [
    "import matplotlib.pyplot as plt\n",
    "from geospatial_learn import data, geodata, learning, shape"
   ]
  },
  {
   "cell_type": "markdown",
   "metadata": {},
   "source": [
    "change directory to where you have saved the files"
   ]
  },
  {
   "cell_type": "code",
   "execution_count": 3,
   "metadata": {},
   "outputs": [
    {
     "name": "stdout",
     "output_type": "stream",
     "text": [
      "/media/ciaran/HD-PZFU3/PyScripts/CLCR_tutorials\n"
     ]
    }
   ],
   "source": [
    "cd '/media/ciaran/HD-PZFU3/PyScripts/CLCR_tutorials/'"
   ]
  },
  {
   "cell_type": "markdown",
   "metadata": {},
   "source": [
    "### Paths to the 2 images and model - please alter as appropriate in your own dir"
   ]
  },
  {
   "cell_type": "code",
   "execution_count": 4,
   "metadata": {},
   "outputs": [],
   "source": [
    "im1 = ('S2_mau_clip_dec2015.tif')\n",
    "\n",
    "im2 = ('S2_mau_clip_dec2016.tif')\n",
    "\n",
    "rfModel = 'Ch_MYE_cv5_rf.gz'"
   ]
  },
  {
   "cell_type": "markdown",
   "metadata": {},
   "source": [
    "### First thing to do is stack our 'before' and 'after' images"
   ]
  },
  {
   "cell_type": "code",
   "execution_count": 5,
   "metadata": {
    "scrolled": true
   },
   "outputs": [
    {
     "name": "stdout",
     "output_type": "stream",
     "text": [
      "\n",
      "Processing file     1 of     2,  0.000% completed in 0 minutes.\n",
      "Filename: S2_mau_clip_dec2015.tif\n",
      "File Size: 1327x1093x4\n",
      "Pixel Size: 9.993147 x -9.998413\n",
      "UL:(757895.629157,9965422.738360)   LR:(771156.535477,9954494.473390)\n",
      "\n",
      "Processing file     2 of     2, 50.000% completed in 0 minutes.\n",
      "Filename: S2_mau_clip_dec2016.tif\n",
      "File Size: 1327x1093x4\n",
      "Pixel Size: 9.993147 x -9.998413\n",
      "UL:(757895.629157,9965422.738360)   LR:(771156.535477,9954494.473390)\n"
     ]
    }
   ],
   "source": [
    "stkRas = '/media/ciaran/HD-PZFU3/PyScripts/CLCR_tutorials/S2_ch_stk.tif'\n",
    "       \n",
    "geodata.stack_ras([im1,im2], stkRas)"
   ]
  },
  {
   "cell_type": "markdown",
   "metadata": {},
   "source": [
    "### Next classify the temporal S2 stack"
   ]
  },
  {
   "cell_type": "code",
   "execution_count": 8,
   "metadata": {},
   "outputs": [],
   "source": [
    "outMap = '/media/ciaran/HD-PZFU3/PyScripts/CLCR_tutorials/S2_ch_map'"
   ]
  },
  {
   "cell_type": "code",
   "execution_count": null,
   "metadata": {},
   "outputs": [
    {
     "name": "stderr",
     "output_type": "stream",
     "text": [
      "/bigdrive/anaconda3/lib/python3.5/site-packages/sklearn/base.py:311: UserWarning: Trying to unpickle estimator DecisionTreeClassifier from version 0.18.1 when using version 0.19.1. This might lead to breaking code or invalid results. Use at your own risk.\n",
      "  UserWarning)\n",
      "/bigdrive/anaconda3/lib/python3.5/site-packages/sklearn/base.py:311: UserWarning: Trying to unpickle estimator RandomForestClassifier from version 0.18.1 when using version 0.19.1. This might lead to breaking code or invalid results. Use at your own risk.\n",
      "  UserWarning)\n",
      " 10%|▉         | 129/1327 [00:26<04:05,  4.89it/s]"
     ]
    }
   ],
   "source": [
    "learning.classify_pixel_bloc(rfModel, stkRas, 8, outMap, blocksize=256)"
   ]
  },
  {
   "cell_type": "code",
   "execution_count": null,
   "metadata": {},
   "outputs": [],
   "source": []
  }
 ],
 "metadata": {
  "kernelspec": {
   "display_name": "Python 3",
   "language": "python",
   "name": "python3"
  },
  "language_info": {
   "codemirror_mode": {
    "name": "ipython",
    "version": 3
   },
   "file_extension": ".py",
   "mimetype": "text/x-python",
   "name": "python",
   "nbconvert_exporter": "python",
   "pygments_lexer": "ipython3",
   "version": "3.5.4"
  }
 },
 "nbformat": 4,
 "nbformat_minor": 2
}
